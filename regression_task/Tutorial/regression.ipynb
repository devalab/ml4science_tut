{
 "cells": [
  {
   "cell_type": "code",
   "execution_count": 1,
   "metadata": {},
   "outputs": [],
   "source": [
    "import torch\n",
    "from torch import nn\n",
    "import numpy as np\n",
    "import torch.optim as optim\n",
    "import matplotlib.pyplot as plt\n",
    "import torch.nn.functional as F\n",
    "import re\n",
    "import pandas as pd"
   ]
  },
  {
   "cell_type": "markdown",
   "metadata": {},
   "source": [
    "## Load Dataset"
   ]
  },
  {
   "cell_type": "code",
   "execution_count": 2,
   "metadata": {},
   "outputs": [],
   "source": [
    "df = pd.read_csv('esol.csv')\n",
    "df = df[['measured log solubility in mols per litre','smiles']]"
   ]
  },
  {
   "cell_type": "code",
   "execution_count": 3,
   "metadata": {},
   "outputs": [],
   "source": [
    "train_df, validate_df, test_df = np.split(df.sample(frac=1), [int(.8*len(df)), int(.9*len(df))])"
   ]
  },
  {
   "cell_type": "markdown",
   "metadata": {},
   "source": [
    "## Constructing Vocabulary from the dataset"
   ]
  },
  {
   "cell_type": "code",
   "execution_count": 4,
   "metadata": {},
   "outputs": [],
   "source": [
    "elements = {'Br', 'C', 'Cl', 'F', 'I', 'N', 'O', 'P', 'S','H','Si'}\n",
    "vocab = set()\n",
    "for indx,val in enumerate(list(df['smiles'].values)):\n",
    "    temp_smile = re.sub(' ','',val)   ##remove spaces from the smile string\n",
    "    for element in elements:\n",
    "        search_obj = re.search(element,temp_smile)\n",
    "        if search_obj:\n",
    "            temp_smile = re.sub(element,'',temp_smile)\n",
    "            vocab.add(element)\n",
    "        search_obj = re.search(element.lower(),temp_smile)\n",
    "        if search_obj:\n",
    "            temp_smile = re.sub(element.lower(),'',temp_smile)\n",
    "            vocab.add(element.lower())\n",
    "    \n",
    "    for i in temp_smile:\n",
    "        vocab.add(i)\n",
    "## convert vocab from set to list for indexing\n",
    "vocab = list(vocab)"
   ]
  },
  {
   "cell_type": "markdown",
   "metadata": {},
   "source": [
    "## Convert SMILES to vector representation"
   ]
  },
  {
   "cell_type": "code",
   "execution_count": 5,
   "metadata": {},
   "outputs": [],
   "source": [
    "def smiles2vec(smile):\n",
    "    indx = 0\n",
    "    vec = []\n",
    "    smile = smile.strip()\n",
    "    while indx < len(smile):\n",
    "        if (indx is not len(smile) - 1) and (smile[indx] + smile[indx+1]) in vocab:\n",
    "            vec.append(vocab.index(smile[indx] + smile[indx+1]))\n",
    "            indx += 2\n",
    "            output of shape (seq_len, batch, num_directions * hidden_size): tensor containing the output features h_t from the last layer of the GRU, for each t. If a torch.nn.utils.rnn.PackedSequence has been given as the input, the output will also be a packed sequence. For the unpacked case, the directions can be separated using output.view(seq_len, batch, num_directions, hidden_size), with forward and backward being direction 0 and 1 respectively.\n",
    "        elif (smile[indx]) in vocab:\n",
    "            vec.append(vocab.index(smile[indx]))\n",
    "            indx += 1\n",
    "            \n",
    "    return vec"
   ]
  },
  {
   "cell_type": "markdown",
   "metadata": {},
   "source": [
    "# Hyper Parameters for model"
   ]
  },
  {
   "cell_type": "code",
   "execution_count": 6,
   "metadata": {},
   "outputs": [],
   "source": [
    "INPUT_SIZE = 1      # rnn input size\n",
    "HIDDEN_SIZE = 120      # rnn hidden size\n",
    "LR = 1e-2         # learning rate\n",
    "BATCH_SIZE = 32"
   ]
  },
  {
   "cell_type": "markdown",
   "metadata": {},
   "source": [
    "## Model"
   ]
  },
  {
   "cell_type": "code",
   "execution_count": 7,
   "metadata": {},
   "outputs": [],
   "source": [
    "class Model(nn.Module):\n",
    "    def __init__(self):\n",
    "        super(Model, self).__init__()\n",
    "\n",
    "        self.rnn = nn.RNN(\n",
    "            input_size=INPUT_SIZE,\n",
    "            hidden_size=HIDDEN_SIZE,     # rnn hidden unit\n",
    "            num_layers=1,                # number of rnn layer\n",
    "            batch_first = True,\n",
    "        )\n",
    "        self.out = nn.Linear(HIDDEN_SIZE, 60)\n",
    "        self.final = nn.Linear(60, 1)\n",
    "\n",
    "    def forward(self, x, time_step):\n",
    "        h_state = torch.zeros(1,1,HIDDEN_SIZE).float()\n",
    "        r_out, h_state = self.rnn(x.float(), h_state)\n",
    "        r_out = torch.mean(r_out,dim=1)\n",
    "        r_out = self.out(r_out)\n",
    "        r_out = F.relu(r_out)\n",
    "        prediction = self.final(r_out)\n",
    "        return prediction"
   ]
  },
  {
   "cell_type": "markdown",
   "metadata": {},
   "source": [
    "## Initializing model, optimizer and LR scheduler"
   ]
  },
  {
   "cell_type": "code",
   "execution_count": 8,
   "metadata": {},
   "outputs": [],
   "source": [
    "model = Model()\n",
    "optimizer = optim.Adam(model.parameters(), lr=LR)\n",
    "scheduler = optim.lr_scheduler.ReduceLROnPlateau(optimizer, 'min',verbose=True,patience=5)"
   ]
  },
  {
   "cell_type": "markdown",
   "metadata": {},
   "source": [
    "## Training "
   ]
  },
  {
   "cell_type": "code",
   "execution_count": 9,
   "metadata": {},
   "outputs": [],
   "source": [
    "def train(epoch,train_set):\n",
    "    model.train()\n",
    "    sample_index = 0\n",
    "    epoch_train_loss=[]\n",
    "    random_indexes=np.random.permutation(len(train_set))\n",
    "    MAXITER = len(train_set)/BATCH_SIZE\n",
    "    for batch_no in range(0,round(MAXITER)):\n",
    "        optimizer.zero_grad()\n",
    "        train_loss = torch.zeros(1, 1)\n",
    "        \n",
    "        for iter_no in range(0, BATCH_SIZE):\n",
    "            sample_index = sample_index%len(train_set)\n",
    "            index=random_indexes[sample_index]\n",
    "            data = train_set[index]\n",
    "    \n",
    "            smile = data[1]\n",
    "            smile_vec = smiles2vec(smile)\n",
    "            smile_vec = torch.FloatTensor(smile_vec)\n",
    "            smile_vec = smile_vec.unsqueeze(0)\n",
    "            smile_vec = smile_vec.unsqueeze(2)\n",
    "            y_hat = model(smile_vec,smile_vec.shape[1])\n",
    "            \n",
    "            y = torch.FloatTensor([data[0]])\n",
    "            error = ((y_hat - y)**2 / BATCH_SIZE)\n",
    "            train_loss = train_loss + error\n",
    "            \n",
    "            sample_index += 1\n",
    "\n",
    "        epoch_train_loss.append(train_loss.item())\n",
    "        train_loss.backward()\n",
    "        optimizer.step()\n",
    "    \n",
    "    return np.mean(epoch_train_loss)"
   ]
  },
  {
   "cell_type": "markdown",
   "metadata": {},
   "source": [
    "## Validation "
   ]
  },
  {
   "cell_type": "code",
   "execution_count": 10,
   "metadata": {},
   "outputs": [],
   "source": [
    "def validation():\n",
    "    model.eval()\n",
    "    val_loss = torch.zeros(1, 1)\n",
    "    for index,data in enumerate(validate_df.values):\n",
    "        smile = data[1]\n",
    "        smile_vec = smiles2vec(smile)\n",
    "        smile_vec = torch.FloatTensor(smile_vec)\n",
    "        smile_vec = smile_vec.unsqueeze(0)\n",
    "        smile_vec = smile_vec.unsqueeze(2)\n",
    "        y_hat = model(smile_vec,smile_vec.shape[1])\n",
    "\n",
    "        y = torch.FloatTensor([data[0]])\n",
    "        error = (y_hat - y)**2\n",
    "        val_loss = val_loss + error\n",
    "\n",
    "    return val_loss.item()/len(validate_df)"
   ]
  },
  {
   "cell_type": "markdown",
   "metadata": {},
   "source": [
    "## Test"
   ]
  },
  {
   "cell_type": "code",
   "execution_count": 16,
   "metadata": {},
   "outputs": [],
   "source": [
    "def test():\n",
    "    model.eval()\n",
    "    test_loss = torch.zeros(1, 1)\n",
    "    for index,data in enumerate(test_df.values):\n",
    "        smile = data[1]\n",
    "        smile_vec = smiles2vec(smile)\n",
    "        smile_vec = torch.FloatTensor(smile_vec)\n",
    "        smile_vec = smile_vec.unsqueeze(0)\n",
    "        smile_vec = smile_vec.unsqueeze(2)\n",
    "        y_hat = model(smile_vec,smile_vec.shape[1])\n",
    "\n",
    "        y = torch.FloatTensor([data[0]])\n",
    "        error = (y_hat - y)**2\n",
    "        test_loss = test_loss + error\n",
    "\n",
    "    return test_loss.item()/len(test_df)"
   ]
  },
  {
   "cell_type": "markdown",
   "metadata": {},
   "source": [
    "## Training loop"
   ]
  },
  {
   "cell_type": "code",
   "execution_count": 12,
   "metadata": {
    "scrolled": true
   },
   "outputs": [
    {
     "name": "stdout",
     "output_type": "stream",
     "text": [
      "epoch_no:  0 training loss:  5.084271422454289 validation loss:  5.0465714446211285\n",
      "epoch_no:  1 training loss:  3.8979566182409013 validation loss:  4.596451210764657\n",
      "epoch_no:  2 training loss:  3.3083095805985585 validation loss:  3.829869903294386\n",
      "epoch_no:  3 training loss:  3.194009014538356 validation loss:  4.551993851113108\n",
      "epoch_no:  4 training loss:  3.930888754980905 validation loss:  4.181043236656526\n",
      "epoch_no:  5 training loss:  3.2994715571403503 validation loss:  3.908340859202157\n",
      "epoch_no:  6 training loss:  3.1603835821151733 validation loss:  3.7326535925400997\n",
      "epoch_no:  7 training loss:  3.02769005724362 validation loss:  4.867313891385509\n",
      "epoch_no:  8 training loss:  3.194287679025105 validation loss:  4.490997044386062\n",
      "epoch_no:  9 training loss:  3.000466376543045 validation loss:  3.7352926878802544\n",
      "epoch_no:  10 training loss:  2.7291683426925113 validation loss:  3.3736971964878317\n",
      "epoch_no:  11 training loss:  2.681775403874261 validation loss:  3.1110504960591814\n",
      "epoch_no:  12 training loss:  2.5977948904037476 validation loss:  3.098043256101355\n",
      "epoch_no:  13 training loss:  2.3698783985206058 validation loss:  3.2499262716917867\n",
      "epoch_no:  14 training loss:  2.304341414145061 validation loss:  2.680750213893114\n",
      "epoch_no:  15 training loss:  2.06290397473744 validation loss:  2.5930245998686394\n",
      "epoch_no:  16 training loss:  1.9958065237317766 validation loss:  2.263275416551438\n",
      "epoch_no:  17 training loss:  1.86856104859284 validation loss:  2.2374722641126246\n",
      "epoch_no:  18 training loss:  1.6696678761925017 validation loss:  2.2596793385733545\n",
      "epoch_no:  19 training loss:  1.6952055926833833 validation loss:  1.9499652153622788\n",
      "epoch_no:  20 training loss:  1.4378393377576555 validation loss:  2.136132434406112\n",
      "epoch_no:  21 training loss:  1.5455154521124703 validation loss:  2.1196339024906665\n",
      "epoch_no:  22 training loss:  1.7112707793712616 validation loss:  2.0239336131948287\n",
      "epoch_no:  23 training loss:  1.4430107878787177 validation loss:  1.9485577608631774\n",
      "epoch_no:  24 training loss:  1.4837706897939955 validation loss:  1.9574309492533186\n",
      "epoch_no:  25 training loss:  1.531354165502957 validation loss:  1.9575378958102876\n",
      "epoch_no:  26 training loss:  1.5073059648275375 validation loss:  2.3342582230019358\n",
      "epoch_no:  27 training loss:  1.716694421001843 validation loss:  1.8878896257518667\n",
      "epoch_no:  28 training loss:  1.7216572378362929 validation loss:  2.021371892068238\n",
      "epoch_no:  29 training loss:  1.3853460848331451 validation loss:  1.8694061009229812\n",
      "epoch_no:  30 training loss:  1.3370162738221032 validation loss:  2.026343151531388\n",
      "epoch_no:  31 training loss:  1.3656384285007204 validation loss:  1.7252321496474003\n",
      "epoch_no:  32 training loss:  1.2452968252556664 validation loss:  1.9935850970512998\n",
      "epoch_no:  33 training loss:  1.246457570365497 validation loss:  1.7966224872960455\n",
      "epoch_no:  34 training loss:  1.2819286286830902 validation loss:  1.8832898435339462\n",
      "epoch_no:  35 training loss:  1.5133596914155143 validation loss:  2.084764193644566\n",
      "epoch_no:  36 training loss:  1.3631338285548347 validation loss:  1.8680587363454093\n",
      "epoch_no:  37 training loss:  1.4177680143288203 validation loss:  1.9858961527326466\n",
      "Epoch    37: reducing learning rate of group 0 to 1.0000e-03.\n",
      "epoch_no:  38 training loss:  1.2099794788019997 validation loss:  1.7086394993604812\n",
      "epoch_no:  39 training loss:  1.1567589087145669 validation loss:  1.7131795967574668\n",
      "epoch_no:  40 training loss:  1.137765686426844 validation loss:  1.7243406582722622\n",
      "epoch_no:  41 training loss:  1.1189506224223547 validation loss:  1.7023080471342644\n",
      "epoch_no:  42 training loss:  1.1224345181669508 validation loss:  1.6948389374049364\n",
      "epoch_no:  43 training loss:  1.1220180158104216 validation loss:  1.6989916235999722\n",
      "epoch_no:  44 training loss:  1.1081688808543342 validation loss:  1.6808450074322456\n",
      "epoch_no:  45 training loss:  1.0972591659852438 validation loss:  1.672407167147746\n",
      "epoch_no:  46 training loss:  1.0911580515759332 validation loss:  1.6856553069258158\n",
      "epoch_no:  47 training loss:  1.1295327448419161 validation loss:  1.6902182249896294\n",
      "epoch_no:  48 training loss:  1.120311786021505 validation loss:  1.6590045490096101\n",
      "epoch_no:  49 training loss:  1.0817299102033888 validation loss:  1.6513574650857301\n",
      "epoch_no:  50 training loss:  1.084232006754194 validation loss:  1.6484777399923949\n",
      "epoch_no:  51 training loss:  1.082474261522293 validation loss:  1.6570481832048534\n",
      "epoch_no:  52 training loss:  1.0661403004612242 validation loss:  1.6339720329352185\n",
      "epoch_no:  53 training loss:  1.0702379026583262 validation loss:  1.6413621480486034\n",
      "epoch_no:  54 training loss:  1.0743187091180257 validation loss:  1.6489530580233684\n",
      "epoch_no:  55 training loss:  1.076034841792924 validation loss:  1.6192200247165376\n",
      "epoch_no:  56 training loss:  1.0702611804008484 validation loss:  1.6465213741876383\n",
      "epoch_no:  57 training loss:  1.0550811567476817 validation loss:  1.6631068676973866\n",
      "epoch_no:  58 training loss:  1.0671386207853044 validation loss:  1.6323644587423949\n",
      "epoch_no:  59 training loss:  1.0554958943809782 validation loss:  1.630539075463219\n",
      "epoch_no:  60 training loss:  1.0441075904028756 validation loss:  1.6158822658842644\n",
      "epoch_no:  61 training loss:  1.0467289962938853 validation loss:  1.631866995212251\n",
      "epoch_no:  62 training loss:  1.0690018715603011 validation loss:  1.632008240286228\n",
      "epoch_no:  63 training loss:  1.0479523198945182 validation loss:  1.6777439623807384\n",
      "epoch_no:  64 training loss:  1.0501935652324133 validation loss:  1.6384758063122236\n",
      "epoch_no:  65 training loss:  1.0449257727180208 validation loss:  1.610433662887168\n",
      "epoch_no:  66 training loss:  1.0359554695231574 validation loss:  1.6235474443013689\n",
      "epoch_no:  67 training loss:  1.0294349385159356 validation loss:  1.631423815161781\n",
      "epoch_no:  68 training loss:  1.0274584889411926 validation loss:  1.6168685507985343\n",
      "epoch_no:  69 training loss:  1.0222820086138589 validation loss:  1.7089973382190264\n",
      "epoch_no:  70 training loss:  1.0719969038452422 validation loss:  1.621266862987417\n",
      "epoch_no:  71 training loss:  1.0212074049881525 validation loss:  1.6120090990994884\n",
      "Epoch    71: reducing learning rate of group 0 to 1.0000e-04.\n",
      "epoch_no:  72 training loss:  1.003227881022862 validation loss:  1.6054225685322179\n",
      "epoch_no:  73 training loss:  0.9996834205729621 validation loss:  1.6035546496906112\n",
      "epoch_no:  74 training loss:  0.9934032154934747 validation loss:  1.602687059250553\n",
      "epoch_no:  75 training loss:  1.0052617234843118 validation loss:  1.601294998574046\n",
      "epoch_no:  76 training loss:  1.0033589888896262 validation loss:  1.600344902646225\n",
      "epoch_no:  77 training loss:  0.9961746994938169 validation loss:  1.6029279590707965\n",
      "epoch_no:  78 training loss:  0.9890235151563372 validation loss:  1.6015972036176023\n",
      "epoch_no:  79 training loss:  0.998746537736484 validation loss:  1.6053202131153208\n",
      "epoch_no:  80 training loss:  0.9971855623381478 validation loss:  1.6028380267387998\n",
      "epoch_no:  81 training loss:  1.001258441380092 validation loss:  1.600875989525719\n",
      "epoch_no:  82 training loss:  0.9995383982147489 validation loss:  1.600099951820036\n",
      "epoch_no:  83 training loss:  0.9906911913837705 validation loss:  1.596608659862417\n",
      "epoch_no:  84 training loss:  1.0021853297948837 validation loss:  1.5968521253197594\n",
      "epoch_no:  85 training loss:  0.9958614919866834 validation loss:  1.5965811130219856\n",
      "epoch_no:  86 training loss:  0.9992929143565041 validation loss:  1.6007794405506774\n",
      "epoch_no:  87 training loss:  0.9971086468015399 validation loss:  1.5961261850542727\n",
      "epoch_no:  88 training loss:  0.9918365499802998 validation loss:  1.597394960116496\n",
      "epoch_no:  89 training loss:  0.9928221255540848 validation loss:  1.601906430404798\n",
      "epoch_no:  90 training loss:  0.9973530237163816 validation loss:  1.598142235679964\n",
      "epoch_no:  91 training loss:  0.9939813177500453 validation loss:  1.6056104001745712\n",
      "epoch_no:  92 training loss:  0.9906275889703205 validation loss:  1.6103245557936947\n",
      "epoch_no:  93 training loss:  0.9893573224544525 validation loss:  1.6047455104051438\n",
      "Epoch    93: reducing learning rate of group 0 to 1.0000e-05.\n"
     ]
    },
    {
     "name": "stdout",
     "output_type": "stream",
     "text": [
      "epoch_no:  94 training loss:  0.9926733012710299 validation loss:  1.6055445038111864\n",
      "epoch_no:  95 training loss:  0.987243286200932 validation loss:  1.6055166869036919\n",
      "epoch_no:  96 training loss:  0.988683181149619 validation loss:  1.6063147350750138\n",
      "epoch_no:  97 training loss:  0.9899981319904327 validation loss:  1.607507756326051\n",
      "epoch_no:  98 training loss:  0.9863832103354591 validation loss:  1.6070976594908049\n",
      "epoch_no:  99 training loss:  0.9906572891133172 validation loss:  1.6069677572334762\n",
      "Epoch    99: reducing learning rate of group 0 to 1.0000e-06.\n"
     ]
    }
   ],
   "source": [
    "train_loss_arr = []\n",
    "validation_loss_arr = []\n",
    "for epoch in range(100):\n",
    "    train_loss = train(epoch,train_df.values)\n",
    "    val_loss = validation()\n",
    "    train_loss_arr.append(train_loss)\n",
    "    validation_loss_arr.append(val_loss)\n",
    "    print(\"epoch_no: \",epoch ,\"training loss: \",train_loss,\"validation loss: \",val_loss)\n",
    "    scheduler.step(val_loss)"
   ]
  },
  {
   "cell_type": "code",
   "execution_count": 17,
   "metadata": {},
   "outputs": [
    {
     "name": "stdout",
     "output_type": "stream",
     "text": [
      "Test loss:  1.098492782727807\n"
     ]
    }
   ],
   "source": [
    "print(\"Test loss: \",test())"
   ]
  },
  {
   "cell_type": "markdown",
   "metadata": {},
   "source": [
    "## Training and validaiton loss v/s epoch"
   ]
  },
  {
   "cell_type": "code",
   "execution_count": 13,
   "metadata": {},
   "outputs": [
    {
     "data": {
      "image/png": "[encoded data removed]",
      "text/plain": [
       "<Figure size 432x288 with 1 Axes>"
      ]
     },
     "metadata": {
      "needs_background": "light"
     },
     "output_type": "display_data"
    }
   ],
   "source": [
    "plt.plot(train_loss_arr,'b',label='Training loss')\n",
    "plt.plot(validation_loss_arr,'r',label='Validation loss')\n",
    "plt.xlabel('Epoch')\n",
    "plt.ylabel('Loss (MSE)')\n",
    "plt.legend()\n",
    "plt.plot()\n",
    "plt.show()"
   ]
  }
 ],
 "metadata": {
  "kernelspec": {
   "display_name": "Python 3",
   "language": "python",
   "name": "python3"
  },
  "language_info": {
   "codemirror_mode": {
    "name": "ipython",
    "version": 3
   },
   "file_extension": ".py",
   "mimetype": "text/x-python",
   "name": "python",
   "nbconvert_exporter": "python",
   "pygments_lexer": "ipython3",
   "version": "3.6.8"
  }
 },
 "nbformat": 4,
 "nbformat_minor": 2
}
