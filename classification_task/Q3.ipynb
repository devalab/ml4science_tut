{
 "cells": [
  {
   "cell_type": "markdown",
   "metadata": {},
   "source": [
    "# Protein Secondary Structure Prediction with Recurrent Neural Networks"
   ]
  },
  {
   "cell_type": "code",
   "execution_count": 1,
   "metadata": {},
   "outputs": [],
   "source": [
    "import torch\n",
    "import torch.nn as nn\n",
    "import torch.nn.functional as F\n",
    "import torchvision\n",
    "import numpy as np\n",
    "from torch.utils import data\n",
    "import torch.utils.data as utils\n",
    "from torch.nn.utils.rnn import pad_sequence ,pack_padded_sequence,pad_packed_sequence\n",
    "import random\n",
    "import os\n",
    "import math\n",
    "import pickle\n",
    "import time\n",
    "import tqdm\n",
    "from sklearn.metrics import accuracy_score,classification_report\n",
    "from matplotlib import pyplot as plt\n",
    "%matplotlib inline"
   ]
  },
  {
   "cell_type": "markdown",
   "metadata": {},
   "source": [
    "### Set Random Number Initializers for Repeatability"
   ]
  },
  {
   "cell_type": "code",
   "execution_count": 2,
   "metadata": {},
   "outputs": [],
   "source": [
    "seed = 0\n",
    "random.seed(seed)\n",
    "torch.manual_seed(seed)\n",
    "np.random.seed(seed)"
   ]
  },
  {
   "cell_type": "code",
   "execution_count": 3,
   "metadata": {},
   "outputs": [],
   "source": [
    "target_names=[\"H\",\"E\",\"C\"]\n",
    "residue_names = ['A', 'C', 'E', 'D', 'G', 'F', 'I', 'H', 'K', 'M', 'L', 'N', 'Q', 'P', 'S', 'R', 'T', 'W', 'V', 'Y', 'X','NoSeq']"
   ]
  },
  {
   "cell_type": "markdown",
   "metadata": {},
   "source": [
    "#### Set device for the model to run on."
   ]
  },
  {
   "cell_type": "code",
   "execution_count": 4,
   "metadata": {},
   "outputs": [
    {
     "name": "stdout",
     "output_type": "stream",
     "text": [
      "cuda\n"
     ]
    }
   ],
   "source": [
    "device = torch.device('cuda' if torch.cuda.is_available() else 'cpu')\n",
    "print (device)\n",
    "cpu = torch.device(\"cpu\")"
   ]
  },
  {
   "cell_type": "markdown",
   "metadata": {},
   "source": [
    "### Dataloader\n"
   ]
  },
  {
   "cell_type": "code",
   "execution_count": 5,
   "metadata": {},
   "outputs": [],
   "source": [
    "def load_from_pkl(path):\n",
    "    with open(path, 'rb') as f:\n",
    "        var = pickle.load(f)\n",
    "    return var\n",
    "\n",
    "# class to index loaded dataset\n",
    "class Dataset(data.Dataset):\n",
    "    def __init__(self, path_to_pkl):\n",
    "        self.data = load_from_pkl(path_to_pkl)\n",
    "        self.ids = list(self.data.keys())\n",
    "\n",
    "    def __len__(self):\n",
    "        return len(self.ids)\n",
    "\n",
    "    def __getitem__(self, index):\n",
    "        id = self.ids[index]\n",
    "        dict = self.data[id]\n",
    "        seq = dict[\"sequence\"]\n",
    "        pssm = dict[\"pssm\"]\n",
    "        length = len(seq)\n",
    "        \n",
    "        secstr = dict[\"secstr\"]\n",
    "        secstr_q3 = dict[\"secstr_q3\"]\n",
    "\n",
    "        return id,seq,pssm,length,secstr,secstr_q3\n",
    "    \n",
    "# Helper Function to pad a batch of protein sequences.\n",
    "def pad_batch(DataLoaderBatch):\n",
    "    \"\"\"\n",
    "    DataLoaderBatch should be a list of (sequence, target, length) tuples...\n",
    "    Returns a padded tensor of sequences sorted from longest to shortest, \n",
    "    \"\"\"\n",
    "    batch_size = len(DataLoaderBatch)\n",
    "    batch_split = list(zip(*DataLoaderBatch))\n",
    "\n",
    "    ids, seqs, pssms, lengths, secstrs, secstrs_q3 = batch_split[0], batch_split[1], batch_split[2] ,batch_split[3], batch_split[4], batch_split[5]\n",
    "    max_length = max(lengths)\n",
    "\n",
    "    padded_seqs = np.ones((max_length, batch_size))*30\n",
    "    padded_pssms = np.zeros((max_length,batch_size,22))\n",
    "    padded_secstrs = np.ones((max_length,batch_size))*30\n",
    "    padded_secstrs_q3 = np.ones((max_length,batch_size))*30\n",
    "    \n",
    "    for i, l in enumerate(lengths):\n",
    "        padded_seqs[:l,i] = seqs[i][:l]\n",
    "        padded_pssms[:l,i,:] = pssms[i][:l][:]\n",
    "        padded_secstrs[:l,i] = secstrs[i][:l]\n",
    "        padded_secstrs_q3[:l,i] = secstrs_q3[i][:l]\n",
    "    return torch.tensor(padded_seqs).type(torch.LongTensor), torch.tensor(padded_pssms).type(torch.float), torch.tensor(lengths), torch.tensor(padded_secstrs).type(torch.LongTensor), torch.tensor(padded_secstrs_q3).type(torch.LongTensor)"
   ]
  },
  {
   "cell_type": "markdown",
   "metadata": {},
   "source": [
    "### Load data"
   ]
  },
  {
   "cell_type": "code",
   "execution_count": 6,
   "metadata": {},
   "outputs": [],
   "source": [
    "# Batch Size for data parallelism\n",
    "batch_size = 64\n",
    "\n",
    "# Load train, test and validation data\n",
    "train = Dataset(\"./Datasets/train.pkl\")\n",
    "val = Dataset(\"./Datasets/val.pkl\")\n",
    "test = Dataset(\"./Datasets/test.pkl\")\n",
    "\n",
    "# Data Generators for each set.\n",
    "train_gen = data.DataLoader(train, batch_size=batch_size, shuffle=True, collate_fn=pad_batch,num_workers=1)\n",
    "val_gen = data.DataLoader(val, batch_size=batch_size,shuffle=False,collate_fn=pad_batch,num_workers=1)\n",
    "test_gen = data.DataLoader(test, batch_size=batch_size,shuffle=False,collate_fn=pad_batch,num_workers=1)"
   ]
  },
  {
   "cell_type": "markdown",
   "metadata": {},
   "source": [
    "### Helper module for perceptron layer"
   ]
  },
  {
   "cell_type": "code",
   "execution_count": 7,
   "metadata": {},
   "outputs": [],
   "source": [
    "# Dense Layer\n",
    "class Dense(nn.Module):\n",
    "    def __init__(self,input_dim,output_dim,dropout = 0.2,normalization = True,activation = F.relu):\n",
    "        super(Dense, self).__init__()\n",
    "        self.input_dim = input_dim\n",
    "        self.output_dim = output_dim\n",
    "        self.dropout_rate = dropout\n",
    "        self.activation = activation\n",
    "        self.n_state = normalization        \n",
    "        self.linear = nn.Linear(self.input_dim,self.output_dim)\n",
    "        self.layernorm = nn.LayerNorm(self.output_dim)\n",
    "        self.dropout = nn.Dropout(p=self.dropout_rate)\n",
    "        \n",
    "    def forward(self, x):\n",
    "        x = self.linear(x)\n",
    "        x = self.activation(x)\n",
    "        if self.n_state:\n",
    "            x = self.layernorm(x)\n",
    "        x = self.dropout(x)\n",
    "        return x"
   ]
  },
  {
   "cell_type": "markdown",
   "metadata": {},
   "source": [
    "### Helper module for Bidirectional GRU "
   ]
  },
  {
   "cell_type": "code",
   "execution_count": 8,
   "metadata": {},
   "outputs": [],
   "source": [
    "# Bidirectional GRU\n",
    "class gru_bidirectional(nn.Module):\n",
    "    def __init__(self,inp,out,dropout=0.1,activation=F.relu):\n",
    "        super(gru_bidirectional,self).__init__()\n",
    "        self.gru = nn.GRU(inp,out,bidirectional=True)\n",
    "        self.dropout_rate = dropout\n",
    "        self.layernorm = nn.LayerNorm(2*out)\n",
    "        self.activation = activation\n",
    "        self.input_dim = inp\n",
    "        self.output_dim = out\n",
    "        self.dropout = nn.Dropout(p=self.dropout_rate)\n",
    "\n",
    "    def forward(self,x,lengths):\n",
    "        x_ = pack_padded_sequence(x,lengths,enforce_sorted=False)\n",
    "        out,_ = self.gru(x_)\n",
    "        out,_ = pad_packed_sequence(out)\n",
    "        out = self.activation(out)\n",
    "        out = self.layernorm(out)\n",
    "        if self.input_dim == 2*self.output_dim:\n",
    "            out = out+x\n",
    "        out = self.dropout(out)\n",
    "        return out"
   ]
  },
  {
   "cell_type": "markdown",
   "metadata": {},
   "source": [
    "### The Neural network definition\n",
    "\n",
    "The structure of the neural network is defined here"
   ]
  },
  {
   "cell_type": "code",
   "execution_count": 9,
   "metadata": {},
   "outputs": [],
   "source": [
    "class Net(nn.Module):\n",
    "    def __init__(self,embedding_count=31,embedding_dim=50):\n",
    "        super(Net, self).__init__()\n",
    "        self.embedding = nn.Embedding(embedding_count,embedding_dim=embedding_dim,padding_idx=30)\n",
    "        \n",
    "        self.layernorm = nn.LayerNorm(22+embedding_dim)\n",
    "        \n",
    "        #GRU\n",
    "        self.gru_1 = gru_bidirectional(22+embedding_dim,64,0.2)\n",
    "        \n",
    "        #Output layers\n",
    "        self.linear_1 = Dense(128,64)\n",
    "        self.Q3 = Dense(64,3,dropout=0)\n",
    "        \n",
    "    def forward(self,x,pssm,x_lengths):\n",
    "        emb = self.embedding(x)\n",
    "        emb = torch.cat([emb,pssm],dim=-1)\n",
    "\n",
    "        x_normalized = self.layernorm(emb)\n",
    "        \n",
    "        gru = self.gru_1(x_normalized,x_lengths)\n",
    "        \n",
    "        out = self.linear_1(gru)\n",
    "        Q3 = self.Q3(out)\n",
    "        return Q3"
   ]
  },
  {
   "cell_type": "markdown",
   "metadata": {},
   "source": [
    "### Initialize the network, Optimizer and the loss function"
   ]
  },
  {
   "cell_type": "code",
   "execution_count": 10,
   "metadata": {},
   "outputs": [],
   "source": [
    "network = Net().to(device)\n",
    "criterion = nn.CrossEntropyLoss(ignore_index=30)\n",
    "optimizer = torch.optim.Adam(network.parameters(),lr=0.001)"
   ]
  },
  {
   "cell_type": "markdown",
   "metadata": {},
   "source": [
    "### Train Epoch helper Function"
   ]
  },
  {
   "cell_type": "code",
   "execution_count": 11,
   "metadata": {},
   "outputs": [],
   "source": [
    "def train_epoch(generator):\n",
    "    #     Set the network in to train mode\n",
    "    #     Enables dropout. \n",
    "    network.train()\n",
    "    total_loss = 0.\n",
    "    start_time = time.time() # Track training time.\n",
    "    prediction = []\n",
    "    g_t = []\n",
    "    for seq,pssm,length,q8,q3 in (generator):\n",
    "        optimizer.zero_grad()  # Make all gradients at each trainable parameter zero.\n",
    "        output = network(seq.to(device),pssm.to(device),length.to(device)) # Perform a forward pass\n",
    "        \n",
    "        loss = criterion(output.view(-1,3).to(device),q3.view(-1).to(device))  #Compute the loss function \n",
    "        loss.backward() # Perform back propagation \n",
    "        torch.nn.utils.clip_grad_norm_(network.parameters(), 0.5)  # Clip gradients to increase stability of training\n",
    "        optimizer.step()  # Perform the optimization step.\n",
    "        \n",
    "        total_loss += loss.cpu().detach().numpy()/batch_size   # Track loss for analysis\n",
    "        \n",
    "        # store all predictions to calculate accuracy at end of epoch\n",
    "        for i in range(len(length)):\n",
    "            prediction.append(output[0:length[i],i,:].cpu().detach().numpy())\n",
    "            g_t.append(q3[0:length[i],i].cpu().detach().numpy())\n",
    "\n",
    "    predictions = np.argmax(np.concatenate(prediction,axis=0),axis=-1)\n",
    "    g_ts = np.concatenate(g_t)\n",
    "    \n",
    "    # calculate accuracy\n",
    "    acc = accuracy_score(predictions,g_ts) \n",
    "    end_time = time.time()\n",
    "    return end_time-start_time , total_loss, acc"
   ]
  },
  {
   "cell_type": "markdown",
   "metadata": {},
   "source": [
    "### Evaluation Epoch Helper function"
   ]
  },
  {
   "cell_type": "code",
   "execution_count": 12,
   "metadata": {},
   "outputs": [],
   "source": [
    "def evaluate(generator, print_acc_report=False,output_sample=False):\n",
    "    \n",
    "    with torch.no_grad(): # disable gradients as no optimization done during evaluation\n",
    "        network.eval()  # set network to evaluation mode to disable dropouts\n",
    "        total_loss = 0.\n",
    "        start_time = time.time() # Track evaluation time\n",
    "        prediction = []\n",
    "        g_t = []   \n",
    "        for seq,pssm,length,q8,q3 in (generator):\n",
    "            \n",
    "            #    Get predictions\n",
    "            output = network(seq.to(device),pssm.to(device),length.to(device))\n",
    "            \n",
    "            #    Calculate loss for analysis\n",
    "            loss = criterion(output.view(-1,3).to(device),q3.view(-1).to(device))        \n",
    "            total_loss += loss.cpu().detach().numpy()/batch_size\n",
    "            for i in range(len(length)):\n",
    "                prediction.append(output[0:length[i],i,:].cpu().detach().numpy())\n",
    "                g_t.append(q3[0:length[i],i].cpu().detach().numpy())\n",
    "                \n",
    "        #   calculate  accuracy for analysis       \n",
    "        predictions = np.argmax(np.concatenate(prediction,axis=0),axis=-1)\n",
    "        g_ts = np.concatenate(g_t)\n",
    "        acc = accuracy_score(predictions,g_ts) \n",
    "        end_time = time.time()\n",
    "        if print_acc_report:\n",
    "            print (classification_report(g_ts,predictions,target_names=target_names))\n",
    "    return end_time-start_time, total_loss, acc"
   ]
  },
  {
   "cell_type": "markdown",
   "metadata": {},
   "source": [
    "### Train!!!"
   ]
  },
  {
   "cell_type": "code",
   "execution_count": 13,
   "metadata": {},
   "outputs": [
    {
     "name": "stdout",
     "output_type": "stream",
     "text": [
      "Epoch : 0, Train_loss : 1.2612319448962808, Train_acc : 0.6009002598959364, Val_acc : 0.6678565633619991\n",
      "Epoch : 1, Train_loss : 1.0200444497168064, Train_acc : 0.6994171180817822, Val_acc : 0.7449294174914814\n",
      "Epoch : 2, Train_loss : 0.8763319170102477, Train_acc : 0.7506094323122677, Val_acc : 0.7779287684569204\n",
      "Epoch : 3, Train_loss : 0.8094869237393141, Train_acc : 0.7721967428011629, Val_acc : 0.7903212721077397\n",
      "Epoch : 4, Train_loss : 0.7722388077527285, Train_acc : 0.7824804201797014, Val_acc : 0.798839850722051\n",
      "Epoch : 5, Train_loss : 0.7427989160642028, Train_acc : 0.7902956995371644, Val_acc : 0.8031194223592406\n",
      "Epoch : 6, Train_loss : 0.7158476538024843, Train_acc : 0.7979015549943657, Val_acc : 0.803504786629888\n",
      "Epoch : 7, Train_loss : 0.6895751976408064, Train_acc : 0.8045926047951939, Val_acc : 0.8144369625182541\n",
      "Epoch : 8, Train_loss : 0.6714003579691052, Train_acc : 0.809188539342777, Val_acc : 0.8176415706636379\n",
      "Epoch : 9, Train_loss : 0.6535391467623413, Train_acc : 0.8136670563061129, Val_acc : 0.8208461788090216\n",
      "Epoch : 10, Train_loss : 0.6369975409470499, Train_acc : 0.8178870793339794, Val_acc : 0.8248620801557683\n",
      "Epoch : 11, Train_loss : 0.6254953239113092, Train_acc : 0.8207585526442616, Val_acc : 0.8276204770404024\n",
      "Epoch : 12, Train_loss : 0.6154184387996793, Train_acc : 0.8234153445505097, Val_acc : 0.8286954405322083\n",
      "Epoch : 13, Train_loss : 0.6078960779123008, Train_acc : 0.8250644482337416, Val_acc : 0.828310076261561\n",
      "Epoch : 14, Train_loss : 0.6043037800118327, Train_acc : 0.8257610674835659, Val_acc : 0.8313727080967062\n",
      "Epoch : 15, Train_loss : 0.5972764859907329, Train_acc : 0.827786958937143, Val_acc : 0.8302166152847639\n",
      "Epoch : 16, Train_loss : 0.5925906491465867, Train_acc : 0.8290478835918564, Val_acc : 0.833258964789875\n",
      "Epoch : 17, Train_loss : 0.5853148112073541, Train_acc : 0.8309914074863348, Val_acc : 0.8363013142949862\n",
      "Epoch : 18, Train_loss : 0.5807720213197172, Train_acc : 0.8318711631175595, Val_acc : 0.8351046568229759\n",
      "Epoch : 19, Train_loss : 0.5765509665943682, Train_acc : 0.8328464300673136, Val_acc : 0.8379847476878144\n",
      "Epoch : 20, Train_loss : 0.572446973528713, Train_acc : 0.8340495221805322, Val_acc : 0.8371937368164855\n",
      "Epoch : 21, Train_loss : 0.5701238922774792, Train_acc : 0.8346769176306884, Val_acc : 0.8359159500243388\n",
      "Epoch : 22, Train_loss : 0.5678488221019506, Train_acc : 0.835067725411093, Val_acc : 0.8384918059386662\n",
      "Epoch : 23, Train_loss : 0.564171738922596, Train_acc : 0.8362839612837423, Val_acc : 0.8404389096219373\n",
      "Epoch : 24, Train_loss : 0.561677654273808, Train_acc : 0.8368622866986907, Val_acc : 0.8377819243874737\n",
      "Epoch : 25, Train_loss : 0.5602025529369712, Train_acc : 0.8371304193910759, Val_acc : 0.8413516144734707\n",
      "Epoch : 26, Train_loss : 0.5540835978463292, Train_acc : 0.8388496231246045, Val_acc : 0.8415544377738114\n",
      "Epoch : 27, Train_loss : 0.5525405127555132, Train_acc : 0.8391396620827075, Val_acc : 0.8401346746714262\n",
      "Epoch : 28, Train_loss : 0.5489957984536886, Train_acc : 0.8402901791582036, Val_acc : 0.8419195197144248\n",
      "Epoch : 29, Train_loss : 0.5464512067846954, Train_acc : 0.84080190952537, Val_acc : 0.841453026123641\n",
      "Epoch : 30, Train_loss : 0.5455149174667895, Train_acc : 0.8408334545480036, Val_acc : 0.8424265779652766\n",
      "Epoch : 31, Train_loss : 0.5425128322094679, Train_acc : 0.8419953628816729, Val_acc : 0.841980366704527\n",
      "Epoch : 32, Train_loss : 0.5395358540117741, Train_acc : 0.8425132270032404, Val_acc : 0.8432378711666396\n",
      "Epoch : 33, Train_loss : 0.5383325233124197, Train_acc : 0.8428181622220314, Val_acc : 0.8429539185461625\n",
      "Epoch : 34, Train_loss : 0.5367398234084249, Train_acc : 0.8431336124483669, Val_acc : 0.8435826707772189\n",
      "Epoch : 35, Train_loss : 0.53681694669649, Train_acc : 0.8432335050200398, Val_acc : 0.8438666233976959\n",
      "Epoch : 36, Train_loss : 0.531449886970222, Train_acc : 0.8447047298256436, Val_acc : 0.8432581534966737\n",
      "Epoch : 37, Train_loss : 0.5289397770538926, Train_acc : 0.8451945539270924, Val_acc : 0.8435218237871167\n",
      "Epoch : 38, Train_loss : 0.5277797318994999, Train_acc : 0.8455634554417792, Val_acc : 0.84279165990589\n",
      "Epoch : 39, Train_loss : 0.526669517159462, Train_acc : 0.8458710194124565, Val_acc : 0.8449010222294338\n"
     ]
    }
   ],
   "source": [
    "train_acc_history = []\n",
    "val_acc_history = []\n",
    "train_loss_history = []\n",
    "val_loss_history = []\n",
    "for i in range(40):\n",
    "    #     Train epoch\n",
    "    run_time,train_loss,train_acc = train_epoch(train_gen)\n",
    "    \n",
    "    #     Validation step\n",
    "    _,val_loss,val_acc = evaluate(val_gen)\n",
    "    \n",
    "    #     Track performance of network during training\n",
    "    train_acc_history.append(train_acc)\n",
    "    val_acc_history.append(val_acc)\n",
    "    train_loss_history.append(train_loss)\n",
    "    val_loss_history.append(val_loss)\n",
    "    \n",
    "    #     Print performance metrics\n",
    "    print (\"Epoch : \"+str(i)+\", Train_loss : \"+str(train_loss)+\", Train_acc : \"+str(train_acc)+\", Val_acc : \"+ str(val_acc))"
   ]
  },
  {
   "cell_type": "markdown",
   "metadata": {},
   "source": [
    "### Evaluate on test set"
   ]
  },
  {
   "cell_type": "code",
   "execution_count": 14,
   "metadata": {},
   "outputs": [
    {
     "name": "stdout",
     "output_type": "stream",
     "text": [
      "              precision    recall  f1-score   support\n",
      "\n",
      "           H       0.90      0.88      0.89     19553\n",
      "           E       0.81      0.76      0.79     11847\n",
      "           C       0.80      0.84      0.82     23544\n",
      "\n",
      "   micro avg       0.84      0.84      0.84     54944\n",
      "   macro avg       0.84      0.83      0.83     54944\n",
      "weighted avg       0.84      0.84      0.84     54944\n",
      "\n",
      "Test Accuracy -  0.8386539021549214\n"
     ]
    }
   ],
   "source": [
    "_,_,test_accuracy = evaluate(test_gen,True,True)\n",
    "print (\"Test Accuracy - \",test_accuracy)"
   ]
  },
  {
   "cell_type": "markdown",
   "metadata": {},
   "source": [
    "### Visualize training"
   ]
  },
  {
   "cell_type": "code",
   "execution_count": 19,
   "metadata": {},
   "outputs": [
    {
     "data": {
      "image/png": "[encoded data removed]",
      "text/plain": [
       "<Figure size 432x288 with 1 Axes>"
      ]
     },
     "metadata": {
      "needs_background": "light"
     },
     "output_type": "display_data"
    }
   ],
   "source": [
    "plt.plot(train_acc_history,label = \"Train_accuracy\")\n",
    "plt.plot(val_acc_history,label = \"Validation_accuracy\")\n",
    "plt.legend()\n",
    "plt.xlabel(\"Epochs\")\n",
    "plt.ylabel(\"Accuracy in %\")\n",
    "plt.title(\"Performance with time\")\n",
    "plt.show()"
   ]
  },
  {
   "cell_type": "code",
   "execution_count": 16,
   "metadata": {},
   "outputs": [
    {
     "data": {
      "image/png": "[encoded data removed]",
      "text/plain": [
       "<Figure size 432x288 with 1 Axes>"
      ]
     },
     "metadata": {
      "needs_background": "light"
     },
     "output_type": "display_data"
    }
   ],
   "source": [
    "plt.plot(train_loss_history)\n",
    "plt.xlabel(\"Epochs\")\n",
    "plt.ylabel(\"Loss\")\n",
    "plt.title(\"Training Loss with time\")\n",
    "plt.show()"
   ]
  }
 ],
 "metadata": {
  "kernelspec": {
   "display_name": "Python 3",
   "language": "python",
   "name": "python3"
  },
  "language_info": {
   "codemirror_mode": {
    "name": "ipython",
    "version": 3
   },
   "file_extension": ".py",
   "mimetype": "text/x-python",
   "name": "python",
   "nbconvert_exporter": "python",
   "pygments_lexer": "ipython3",
   "version": "3.5.2"
  }
 },
 "nbformat": 4,
 "nbformat_minor": 4
}
