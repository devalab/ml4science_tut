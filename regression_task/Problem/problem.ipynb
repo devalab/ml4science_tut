{
 "cells": [
  {
   "cell_type": "code",
   "execution_count": 1,
   "metadata": {},
   "outputs": [],
   "source": [
    "import torch\n",
    "from torch import nn\n",
    "import numpy as np\n",
    "import torch.optim as optim\n",
    "import matplotlib.pyplot as plt\n",
    "import torch.nn.functional as F\n",
    "import re\n",
    "import pandas as pd"
   ]
  },
  {
   "cell_type": "markdown",
   "metadata": {},
   "source": [
    "## Load Dataset"
   ]
  },
  {
   "cell_type": "code",
   "execution_count": 2,
   "metadata": {},
   "outputs": [],
   "source": [
    "df = pd.read_csv('problem.csv')\n",
    "\n",
    "## Write you own split"
   ]
  },
  {
   "cell_type": "markdown",
   "metadata": {},
   "source": [
    "## Constructing Vocabulary from the dataset"
   ]
  },
  {
   "cell_type": "code",
   "execution_count": 4,
   "metadata": {},
   "outputs": [],
   "source": [
    "elements = {'Br', 'C', 'Cl', 'F', 'I', 'N', 'O', 'P', 'S','H'}\n",
    "vocab = set()\n",
    "for indx,val in enumerate(list(df['smiles'].values)):\n",
    "    temp_smile = re.sub(' ','',val)   ##remove spaces from the smile string\n",
    "    for element in elements:\n",
    "        search_obj = re.search(element,temp_smile)\n",
    "        if search_obj:\n",
    "            temp_smile = re.sub(element,'',temp_smile)\n",
    "            vocab.add(element)\n",
    "        search_obj = re.search(element.lower(),temp_smile)\n",
    "        if search_obj:\n",
    "            temp_smile = re.sub(element.lower(),'',temp_smile)\n",
    "            vocab.add(element.lower())\n",
    "    \n",
    "    for i in temp_smile:\n",
    "        vocab.add(i)\n",
    "## convert vocab from set to list for indexing\n",
    "vocab = list(vocab)"
   ]
  },
  {
   "cell_type": "markdown",
   "metadata": {},
   "source": [
    "## Convert SMILES to vector representation"
   ]
  },
  {
   "cell_type": "code",
   "execution_count": 5,
   "metadata": {},
   "outputs": [],
   "source": [
    "def smiles2vec(smile):\n",
    "    indx = 0\n",
    "    vec = []\n",
    "    smile = smile.strip()\n",
    "    while indx < len(smile):\n",
    "        if (indx is not len(smile) - 1) and (smile[indx] + smile[indx+1]) in vocab:\n",
    "            vec.append(vocab.index(smile[indx] + smile[indx+1]))\n",
    "            indx += 2\n",
    "            \n",
    "        elif (smile[indx]) in vocab:\n",
    "            vec.append(vocab.index(smile[indx]))\n",
    "            indx += 1\n",
    "            \n",
    "    return vec"
   ]
  },
  {
   "cell_type": "markdown",
   "metadata": {},
   "source": [
    "# Hyper Parameters for model\n",
    "Define hyperparameters in the given cell"
   ]
  },
  {
   "cell_type": "code",
   "execution_count": 12,
   "metadata": {},
   "outputs": [],
   "source": [
    "## hyperparamters"
   ]
  },
  {
   "cell_type": "markdown",
   "metadata": {},
   "source": [
    "# Defining Model "
   ]
  },
  {
   "cell_type": "code",
   "execution_count": 7,
   "metadata": {},
   "outputs": [],
   "source": [
    "class Model(nn.Module):\n",
    "    def __init__(self):\n",
    "        super(Model, self).__init__()\n",
    "        \"\"\"\n",
    "        Define your model here\n",
    "        \"\"\"\n",
    "    def forward(self, x, time_step):\n",
    "        \"\"\"\n",
    "        Write forward pass\n",
    "        \"\"\"\n",
    "        return prediction"
   ]
  },
  {
   "cell_type": "markdown",
   "metadata": {},
   "source": [
    "## Initializing model, optimizer and LR scheduler"
   ]
  },
  {
   "cell_type": "code",
   "execution_count": 8,
   "metadata": {},
   "outputs": [],
   "source": [
    "model = Model()\n",
    "optimizer = optim.Adam(model.parameters(), lr=LR)\n",
    "scheduler = optim.lr_scheduler.ReduceLROnPlateau(optimizer, 'min',verbose=True,patience=5)"
   ]
  },
  {
   "cell_type": "markdown",
   "metadata": {},
   "source": [
    "## Training Function"
   ]
  },
  {
   "cell_type": "code",
   "execution_count": 9,
   "metadata": {},
   "outputs": [],
   "source": [
    "def train(epoch,train_set):\n",
    "    \n",
    "    \"\"\" \n",
    "    Write training function here\n",
    "    \"\"\"\n",
    "    \n",
    "    return np.mean(epoch_train_loss)"
   ]
  },
  {
   "cell_type": "code",
   "execution_count": 10,
   "metadata": {},
   "outputs": [],
   "source": [
    "def validation():\n",
    "    \"\"\" \n",
    "    Write validation function here\n",
    "    \"\"\"\n",
    "\n",
    "    return val_loss.item()/len(validate_df)"
   ]
  },
  {
   "cell_type": "code",
   "execution_count": 24,
   "metadata": {},
   "outputs": [],
   "source": [
    "\"\"\"\n",
    "Write training loop\n",
    "\"\"\""
   ]
  }
 ],
 "metadata": {
  "kernelspec": {
   "display_name": "Python 3",
   "language": "python",
   "name": "python3"
  },
  "language_info": {
   "codemirror_mode": {
    "name": "ipython",
    "version": 3
   },
   "file_extension": ".py",
   "mimetype": "text/x-python",
   "name": "python",
   "nbconvert_exporter": "python",
   "pygments_lexer": "ipython3",
   "version": "3.6.6"
  }
 },
 "nbformat": 4,
 "nbformat_minor": 2
}
